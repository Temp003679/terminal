{
  "nbformat": 4,
  "nbformat_minor": 0,
  "metadata": {
    "colab": {
      "provenance": []
    },
    "kernelspec": {
      "name": "python3",
      "display_name": "Python 3"
    },
    "language_info": {
      "name": "python"
    }
  },
  "cells": [
    {
      "cell_type": "code",
      "source": [
        "import numpy as np"
      ],
      "metadata": {
        "id": "h3m1Hi2-GVgn"
      },
      "execution_count": null,
      "outputs": []
    },
    {
      "cell_type": "code",
      "execution_count": null,
      "metadata": {
        "id": "VkwFiUuEFT-h"
      },
      "outputs": [],
      "source": [
        "class NeuralNetwork:\n",
        "  def __init__(self,input_neuron,hidden_neuron,output_neuron):\n",
        "    self.W1=np.random.randn(input_neuron,hidden_neuron)\n",
        "    self.B1=np.zeros(hidden_neuron)\n",
        "    self.W2=np.random.randn(hidden_neuron,output_neuron)\n",
        "    self.B2=np.zeros(output_neuron)\n",
        "\n",
        "  def Sigmoid(self,x):\n",
        "    return 1/(1+np.exp(-x))\n",
        "\n",
        "  def Sigmoid_derv(self,x):\n",
        "    return x*(1-x)\n",
        "\n",
        "  def forward(self, X):\n",
        "    self.z1=X @ self.W1 + self.B1\n",
        "    self.a1= self.Sigmoid(self.z1)\n",
        "    self.z2=self.a1 @ self.W2 + self.B2\n",
        "    self.a2=self.Sigmoid(self.z2)\n",
        "    return self.a2\n",
        "\n",
        "  def Backward(self, X, y, output):\n",
        "    self.output_error=y-output\n",
        "    self.output_delta= self.output_error * self.Sigmoid_derv(output)\n",
        "    self.hidden_error= self.output_delta @ self.W2.T\n",
        "    self.hidden_delta= self.hidden_error * self.Sigmoid_derv(self.a1)\n",
        "\n",
        "    self.W1+= X.T @ self.hidden_delta\n",
        "    self.B1+= np.sum(self.hidden_delta,axis=0)\n",
        "\n",
        "    self.W2+=self.a1.T @ self.output_delta\n",
        "    self.B2+=np.sum(self.output_delta,axis=0)\n",
        "\n",
        "  def train(self, X, y, epochs):\n",
        "    for i in range(epochs):\n",
        "      output=self.forward(X)\n",
        "      self.Backward(X,y,output)\n",
        "\n",
        "  def predict(self,X):\n",
        "    return self.forward(X)\n",
        "\n",
        "\n"
      ]
    },
    {
      "cell_type": "code",
      "source": [
        "temp=NeuralNetwork(4,8,1)"
      ],
      "metadata": {
        "id": "tqh8uQypPwSd"
      },
      "execution_count": null,
      "outputs": []
    },
    {
      "cell_type": "code",
      "source": [
        "X = np.array([[0, 0 ,0 , 0], [0, 1, 0, 1], [1, 0, 1, 0], [0, 1, 1, 0]])\n",
        "y = np.array([[0], [1], [1], [0]])"
      ],
      "metadata": {
        "id": "cktEd2OLHAUz"
      },
      "execution_count": null,
      "outputs": []
    },
    {
      "cell_type": "code",
      "source": [
        "temp.train(X,y,100)"
      ],
      "metadata": {
        "id": "K-49Zh38HXWs"
      },
      "execution_count": null,
      "outputs": []
    },
    {
      "cell_type": "code",
      "source": [
        "temp.predict([[0, 0, 0 , 0]])"
      ],
      "metadata": {
        "colab": {
          "base_uri": "https://localhost:8080/"
        },
        "id": "P4HJJziLIYJO",
        "outputId": "2c79a572-1abc-4a2d-c37f-bcc1ccc1eee2"
      },
      "execution_count": null,
      "outputs": [
        {
          "output_type": "execute_result",
          "data": {
            "text/plain": [
              "array([[0.09954224]])"
            ]
          },
          "metadata": {},
          "execution_count": 6
        }
      ]
    },
    {
      "cell_type": "code",
      "source": [],
      "metadata": {
        "id": "BA38FPqVQJrI"
      },
      "execution_count": null,
      "outputs": []
    }
  ]
}