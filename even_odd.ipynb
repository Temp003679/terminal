{
  "nbformat": 4,
  "nbformat_minor": 0,
  "metadata": {
    "colab": {
      "provenance": []
    },
    "kernelspec": {
      "name": "python3",
      "display_name": "Python 3"
    },
    "language_info": {
      "name": "python"
    }
  },
  "cells": [
    {
      "cell_type": "code",
      "source": [
        "import numpy as np"
      ],
      "metadata": {
        "id": "doGHpE-Lr3g7"
      },
      "execution_count": 1,
      "outputs": []
    },
    {
      "cell_type": "code",
      "execution_count": 11,
      "metadata": {
        "colab": {
          "base_uri": "https://localhost:8080/"
        },
        "id": "0b3W_Kdzrm6A",
        "outputId": "7d63ae4c-ed81-4f5c-e3cd-c18e51f640d9"
      },
      "outputs": [
        {
          "output_type": "stream",
          "name": "stdout",
          "text": [
            "[0 1 0 1 0 1 0 1 0 1]\n"
          ]
        }
      ],
      "source": [
        "import numpy as np\n",
        "\n",
        "class perceptron:\n",
        "    def __init__(self, n_input, eta=0.2):\n",
        "        self.w = np.zeros(n_input)\n",
        "        self.b = 0\n",
        "        self.eta = eta\n",
        "\n",
        "    def activation(self, x):\n",
        "        return np.where(x > 0, 1, 0)\n",
        "\n",
        "    def predict(self, x):\n",
        "        pred = np.dot(x, self.w) + self.b\n",
        "        return self.activation(pred)\n",
        "\n",
        "    def train(self, X, y, epochs=10):\n",
        "        for epoch in range(epochs):\n",
        "            for i in range(len(X)):\n",
        "                pred = self.predict(X[i])\n",
        "                error = y[i] - pred\n",
        "                self.w += error * self.eta * X[i]\n",
        "                self.b += error * self.eta\n",
        "\n",
        "X = np.array([\n",
        "    [0,0,0,0,0,0,0], # 0\n",
        "    [0,0,0,0,0,0,1], # 1\n",
        "    [0,0,0,0,0,1,0], # 2\n",
        "    [0,0,0,0,0,1,1], # 3\n",
        "    [0,0,0,0,1,0,0], # 4\n",
        "    [0,0,0,0,1,0,1], # 5\n",
        "    [0,0,0,0,1,1,0], # 6\n",
        "    [0,0,0,0,1,1,1], # 7\n",
        "    [0,0,0,1,0,0,0], # 8\n",
        "    [0,0,0,1,0,0,1], # 9\n",
        "])\n",
        "\n",
        "Y = np.array([0, 1, 0, 1, 0, 1, 0, 1, 0, 1])\n",
        "\n",
        "p = perceptron(7, 0.2)\n",
        "p.train(X, Y, 100)\n",
        "print(p.predict(X))\n"
      ]
    },
    {
      "cell_type": "code",
      "source": [
        "np.array([[1,1,1,1],[1,1,1,1]]) @ np.array([2,2,2,2])"
      ],
      "metadata": {
        "colab": {
          "base_uri": "https://localhost:8080/"
        },
        "id": "AMR2RJO4yH29",
        "outputId": "db5bdd73-1554-499b-e890-2b3ddc2f7ea7"
      },
      "execution_count": 3,
      "outputs": [
        {
          "output_type": "execute_result",
          "data": {
            "text/plain": [
              "array([8, 8])"
            ]
          },
          "metadata": {},
          "execution_count": 3
        }
      ]
    },
    {
      "cell_type": "code",
      "source": [
        "np.zeros(7)"
      ],
      "metadata": {
        "colab": {
          "base_uri": "https://localhost:8080/"
        },
        "id": "D_B4yGYHyVIR",
        "outputId": "e4d592fd-c82e-469f-b34e-fe6d6a9d7601"
      },
      "execution_count": 5,
      "outputs": [
        {
          "output_type": "execute_result",
          "data": {
            "text/plain": [
              "array([0., 0., 0., 0., 0., 0., 0.])"
            ]
          },
          "metadata": {},
          "execution_count": 5
        }
      ]
    },
    {
      "cell_type": "code",
      "source": [],
      "metadata": {
        "id": "OnEJz1Qb2KYf"
      },
      "execution_count": null,
      "outputs": []
    }
  ]
}