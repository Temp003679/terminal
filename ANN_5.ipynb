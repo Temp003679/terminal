{
  "nbformat": 4,
  "nbformat_minor": 0,
  "metadata": {
    "colab": {
      "provenance": []
    },
    "kernelspec": {
      "name": "python3",
      "display_name": "Python 3"
    },
    "language_info": {
      "name": "python"
    }
  },
  "cells": [
    {
      "cell_type": "code",
      "execution_count": null,
      "metadata": {
        "id": "W43QzPIcTAfW"
      },
      "outputs": [],
      "source": [
        "import numpy as np"
      ]
    },
    {
      "cell_type": "code",
      "source": [
        "np.outer([[1,2]],[[1,1],[2,2]])"
      ],
      "metadata": {
        "colab": {
          "base_uri": "https://localhost:8080/"
        },
        "id": "MVNwEr-aTM-y",
        "outputId": "a57c089e-cc49-42bc-d22e-0d6a48b50641"
      },
      "execution_count": null,
      "outputs": [
        {
          "output_type": "execute_result",
          "data": {
            "text/plain": [
              "array([[1, 1, 2, 2],\n",
              "       [2, 2, 4, 4]])"
            ]
          },
          "metadata": {},
          "execution_count": 3
        }
      ]
    },
    {
      "cell_type": "code",
      "source": [
        "#Write a python program for bidirectional associative memory with two pairs of vectors\n",
        "\n",
        "import numpy as np\n",
        "\n",
        "# define two pairs of vectors\n",
        "x1 = np.array([1, 1, 1, -1])\n",
        "y1 = np.array([1, -1])\n",
        "x2 = np.array([-1, -1, 1, 1])\n",
        "y2 = np.array([-1, 1])\n",
        "\n",
        "# compute weight matrix W\n",
        "W = np.outer(y1, x1) + np.outer(y2, x2)\n",
        "\n",
        "# define BAM function\n",
        "def bam(x):\n",
        "    y = W @ x\n",
        "    return np.where(y>=0, 1, -1)\n",
        "\n",
        "# test BAM with inputs\n",
        "x_test = np.array([1, 1, 1, 1])\n",
        "y_test = bam(x_test)\n",
        "\n",
        "# print output\n",
        "print(\"Input x: \", x_test)\n",
        "print(\"Output y: \", y_test)"
      ],
      "metadata": {
        "colab": {
          "base_uri": "https://localhost:8080/"
        },
        "id": "feybJ_6sTpAU",
        "outputId": "ffdc3d74-289b-4e50-e903-97b9cec6923d"
      },
      "execution_count": null,
      "outputs": [
        {
          "output_type": "stream",
          "name": "stdout",
          "text": [
            "Input x:  [1 1 1 1]\n",
            "Output y:  [ 1 -1]\n"
          ]
        }
      ]
    },
    {
      "cell_type": "code",
      "source": [],
      "metadata": {
        "id": "_kyqAOzTU1FO"
      },
      "execution_count": null,
      "outputs": []
    }
  ]
}