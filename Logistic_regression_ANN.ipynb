{
  "nbformat": 4,
  "nbformat_minor": 0,
  "metadata": {
    "colab": {
      "provenance": [],
      "gpuType": "T4"
    },
    "kernelspec": {
      "name": "python3",
      "display_name": "Python 3"
    },
    "language_info": {
      "name": "python"
    },
    "accelerator": "GPU"
  },
  "cells": [
    {
      "cell_type": "code",
      "execution_count": null,
      "metadata": {
        "colab": {
          "base_uri": "https://localhost:8080/"
        },
        "id": "OIYnhe_XgL7q",
        "outputId": "6ee7ad2c-7504-4c36-ab34-a670a0800a83"
      },
      "outputs": [
        {
          "output_type": "stream",
          "name": "stdout",
          "text": [
            "Epoch 1/5\n",
            "15/15 [==============================] - 2s 4ms/step - loss: 0.2776 - accuracy: 0.9231\n",
            "Epoch 2/5\n",
            "15/15 [==============================] - 0s 4ms/step - loss: 0.0694 - accuracy: 0.9758\n",
            "Epoch 3/5\n",
            "15/15 [==============================] - 0s 4ms/step - loss: 0.0447 - accuracy: 0.9868\n",
            "Epoch 4/5\n",
            "15/15 [==============================] - 0s 4ms/step - loss: 0.0274 - accuracy: 0.9912\n",
            "Epoch 5/5\n",
            "15/15 [==============================] - 0s 4ms/step - loss: 0.0189 - accuracy: 0.9956\n",
            "4/4 [==============================] - 0s 4ms/step - loss: 0.1158 - accuracy: 0.9649\n",
            "Test Loss:  0.11579104512929916\n",
            "accuracy is 0.9649122953414917\n"
          ]
        }
      ],
      "source": [
        "#How to train a neural network with Tensorflow / Pytorch and evaluation of logistic\n",
        "#regression using tensorflow\n",
        "\n",
        "import tensorflow as tf\n",
        "import numpy as np\n",
        "\n",
        "from keras.models import Sequential\n",
        "from keras.layers import Dense, Flatten\n",
        "from sklearn.model_selection import train_test_split\n",
        "from sklearn.preprocessing import StandardScaler\n",
        "from sklearn.datasets import load_breast_cancer\n",
        "\n",
        "df=load_breast_cancer()\n",
        "# two classifications -- malignant / benign\n",
        "\n",
        "X_train,X_test,y_train,y_test=train_test_split(df.data,df.target,test_size=0.20,random_state=42)\n",
        "\n",
        "sc=StandardScaler()\n",
        "X_train=sc.fit_transform(X_train)\n",
        "X_test=sc.transform(X_test)\n",
        "\n",
        "model=Sequential([\n",
        "\n",
        "    Flatten(input_shape=(X_train.shape[1],)),\n",
        "    Dense(500,activation='relu'),\n",
        "    Dense(300,activation='relu'),\n",
        "    Dense(150,activation='relu'),\n",
        "    Dense(50,activation='relu'),\n",
        "    Dense(10,activation='relu'),\n",
        "    Dense(1,activation='sigmoid')\n",
        "    ])\n",
        "\n",
        "model.compile(optimizer='adam',loss='binary_crossentropy',metrics=['accuracy'])\n",
        "\n",
        "model.fit(X_train,y_train,epochs=5)\n",
        "\n",
        "test_loss,test_accuracy = model.evaluate(X_test,y_test)\n",
        "\n",
        "print(\"Test Loss: \",test_loss)\n",
        "print(\"accuracy is\",test_accuracy)"
      ]
    },
    {
      "cell_type": "code",
      "source": [],
      "metadata": {
        "id": "SV4qMB9ig53W"
      },
      "execution_count": null,
      "outputs": []
    }
  ]
}