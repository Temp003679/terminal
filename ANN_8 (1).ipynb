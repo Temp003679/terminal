{
  "nbformat": 4,
  "nbformat_minor": 0,
  "metadata": {
    "colab": {
      "provenance": []
    },
    "kernelspec": {
      "name": "python3",
      "display_name": "Python 3"
    },
    "language_info": {
      "name": "python"
    }
  },
  "cells": [
    {
      "cell_type": "code",
      "execution_count": null,
      "metadata": {
        "id": "nBD8nm89mhdh"
      },
      "outputs": [],
      "source": [
        "import numpy as np"
      ]
    },
    {
      "cell_type": "code",
      "source": [
        "class Hopfield_network:\n",
        "  def __init__(self,n_neurons):\n",
        "    self.weights=np.zeros((n_neurons,n_neurons))\n",
        "\n",
        "  def train(self,patterns):\n",
        "    for pattern in patterns:\n",
        "      self.weights = self.weights + np.outer(pattern,pattern)\n",
        "      np.fill_diagonal(self.weights,0)\n",
        "\n",
        "  def predict(self,pattern):\n",
        "    energy= -0.5 *((pattern @ self.weights) @ pattern)\n",
        "    return np.sign((pattern @ self.weights)+ energy)\n",
        "\n",
        "n_neuron=4\n",
        "network=Hopfield_network(n_neuron)\n",
        "\n",
        "patterns = np.array([\n",
        "                [1, 1, -1, -1],\n",
        "                [-1, -1, 1, 1],\n",
        "                [1, -1, 1, -1],\n",
        "                [-1, 1, -1, 1]\n",
        "                ])\n",
        "\n",
        "network.train(patterns)\n",
        "\n",
        "pattern=[1,1,-1,-1]\n",
        "\n",
        "network.predict(pattern)\n"
      ],
      "metadata": {
        "colab": {
          "base_uri": "https://localhost:8080/"
        },
        "id": "MJQzm9ZVmm7H",
        "outputId": "ebea0d9b-b517-44e4-8e4d-de9159544ea8"
      },
      "execution_count": null,
      "outputs": [
        {
          "output_type": "execute_result",
          "data": {
            "text/plain": [
              "array([-1., -1., -1., -1.])"
            ]
          },
          "metadata": {},
          "execution_count": 12
        }
      ]
    },
    {
      "cell_type": "code",
      "source": [],
      "metadata": {
        "id": "IQhe2k-arKVz"
      },
      "execution_count": null,
      "outputs": []
    }
  ]
}